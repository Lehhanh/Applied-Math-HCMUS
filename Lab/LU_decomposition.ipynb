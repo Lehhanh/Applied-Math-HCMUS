{
  "nbformat": 4,
  "nbformat_minor": 0,
  "metadata": {
    "colab": {
      "provenance": []
    },
    "kernelspec": {
      "name": "python3",
      "display_name": "Python 3"
    },
    "language_info": {
      "name": "python"
    }
  },
  "cells": [
    {
      "cell_type": "markdown",
      "source": [
        "# LU decomposition"
      ],
      "metadata": {
        "id": "_i6DKSUJ8rR_"
      }
    },
    {
      "cell_type": "code",
      "source": [
        "import numpy\n",
        "\n",
        "def LU_decomposition(A):\n",
        "  row, col = A.shape\n",
        "  U = A.copy()\n",
        "  L = numpy.identity(row)\n",
        "  for i in range(min(row, col)):\n",
        "    if U[i, i] == 0:\n",
        "      if numpy.any(U[i+1:, i]) != 0:\n",
        "        return False, numpy.zeros([row, row]), numpy.zeros([row, col])\n",
        "    else:\n",
        "      for j in range(i+1, row):\n",
        "        temp = U[j, i] / U[i, i]\n",
        "        L[j, i] = temp\n",
        "        U[j, i:] = U[j, i:] - temp * U[i, i:]\n",
        "  return True, L, U"
      ],
      "metadata": {
        "id": "CaDvsf0t2xfB"
      },
      "execution_count": 7,
      "outputs": []
    },
    {
      "cell_type": "code",
      "source": [
        "A = numpy.array([[5, -5, 10, 15],\n",
        "              [4, -8, 0, 12],\n",
        "              [2, 0, 9, 9],\n",
        "              [-1, -2, -6, -1]])\n",
        "success, L, U = LU_decomposition(A)\n",
        "\n",
        "if success:\n",
        "    print(\"L:\")\n",
        "    print(L)\n",
        "    print(\"U:\")\n",
        "    print(U)\n",
        "else:\n",
        "    print(\"The input matrix does not have a LU decomposition\")"
      ],
      "metadata": {
        "id": "mOdctlKP6kqU"
      },
      "execution_count": null,
      "outputs": []
    },
    {
      "cell_type": "code",
      "source": [
        "B = numpy.array([[0, 2, -6, -2, 4],\n",
        "                 [1, -1, 3, 3, 2],\n",
        "                 [0, -1, 3, 7, 10]])\n",
        "success, L, U = LU_decomposition(B)\n",
        "\n",
        "if success:\n",
        "    print(\"L:\")\n",
        "    print(L)\n",
        "    print(\"U:\")\n",
        "    print(U)\n",
        "else:\n",
        "    print(\"The input matrix does not have a LU decomposition\")"
      ],
      "metadata": {
        "id": "KMTPhd6S8FGM"
      },
      "execution_count": null,
      "outputs": []
    }
  ]
}